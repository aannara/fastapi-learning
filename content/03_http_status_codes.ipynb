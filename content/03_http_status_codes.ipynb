{
 "cells": [
  {
   "cell_type": "markdown",
   "metadata": {},
   "source": [
    "### HTTP Methods: https://developer.mozilla.org/en-US/docs/Web/HTTP/Methods"
   ]
  },
  {
   "cell_type": "markdown",
   "metadata": {},
   "source": [
    "* Informational responses (100 – 199) - Rarely used. These responses does not have a body.\n",
    "* Successful responses (200 – 299)\n",
    "  * 200 is the default status code, which means everything was \"OK\".\n",
    "  * 201 is \"Created\", meaning the resource was created.\n",
    "  * 204 is \"No Content\", meaning it is a successful operation, but the response does not have a body.\n",
    "* Redirection messages (300 – 399)\n",
    "  * 304 is \"Not Modified\", the data was redirected without any modification.\n",
    "* Client error responses (400 – 499)\n",
    "  * 400 is \"Bad Request\", server cannot process the data due to client error.\n",
    "  * 404 is \"Not Found\", server could not find this page.\n",
    "* Server error responses (500 – 599)\n",
    "  * 500 is \"Internal Server Error\", there was an error at the server side that could not be handled.\n",
    "  * 502 is \"Bad Gateway\", server got an error while processing the data."
   ]
  },
  {
   "cell_type": "markdown",
   "metadata": {},
   "source": [
    "### HTTP Status codes: https://developer.mozilla.org/en-US/docs/Web/HTTP/Methods"
   ]
  }
 ],
 "metadata": {
  "language_info": {
   "name": "python"
  }
 },
 "nbformat": 4,
 "nbformat_minor": 2
}
