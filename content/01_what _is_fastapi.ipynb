{
 "cells": [
  {
   "cell_type": "markdown",
   "metadata": {},
   "source": [
    "# FastAPI URL: https://fastapi.tiangolo.com/\n",
    "## FastAPI GitHub URL: https://github.com/fastapi/fastapi"
   ]
  }
 ],
 "metadata": {
  "language_info": {
   "name": "python"
  }
 },
 "nbformat": 4,
 "nbformat_minor": 2
}
