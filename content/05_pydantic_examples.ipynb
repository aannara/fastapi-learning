{
 "cells": [
  {
   "cell_type": "code",
   "execution_count": null,
   "metadata": {},
   "outputs": [],
   "source": [
    "from datetime import date\n",
    "from uuid import UUID, uuid4\n",
    "from enum import Enum\n",
    "from pydantic import BaseModel, EmailStr\n",
    "\n",
    "class Department(Enum):\n",
    "    HR = \"HR\"\n",
    "    SALES = \"SALES\"\n",
    "    IT = \"IT\"\n",
    "    ENGINEERING = \"ENGINEERING\"\n",
    "\n",
    "class Employee(BaseModel):\n",
    "    employee_id: UUID = uuid4()\n",
    "    name: str\n",
    "    email: EmailStr\n",
    "    date_of_birth: date\n",
    "    salary: float\n",
    "    department: Department\n",
    "    elected_benefits: bool"
   ]
  },
  {
   "cell_type": "code",
   "execution_count": null,
   "metadata": {},
   "outputs": [],
   "source": [
    "employee = Employee(\n",
    "    name=\"Chris DeTuma\",\n",
    "    email=\"cdetuma@example.com\",\n",
    "    date_of_birth=\"1998-04-02\",\n",
    "    salary=123_000.00,\n",
    "    department=\"IT\",\n",
    "    elected_benefits=True,\n",
    ")\n",
    "employee"
   ]
  },
  {
   "cell_type": "code",
   "execution_count": null,
   "metadata": {},
   "outputs": [],
   "source": [
    "Employee(\n",
    "    employee_id=\"123\",\n",
    "    name=False,\n",
    "    email=\"cdetumaexamplecom\",\n",
    "    date_of_birth=\"1939804-02\",\n",
    "    salary=\"high paying\",\n",
    "    department=\"PRODUCT\",\n",
    "    elected_benefits=300,\n",
    ")"
   ]
  },
  {
   "cell_type": "code",
   "execution_count": null,
   "metadata": {},
   "outputs": [],
   "source": [
    "employee.model_dump()"
   ]
  },
  {
   "cell_type": "code",
   "execution_count": null,
   "metadata": {},
   "outputs": [],
   "source": [
    "employee.model_dump_json()"
   ]
  },
  {
   "cell_type": "code",
   "execution_count": null,
   "metadata": {},
   "outputs": [],
   "source": [
    "from pprint import pprint\n",
    "\n",
    "pprint(employee.model_dump_json(), indent=4)"
   ]
  },
  {
   "cell_type": "code",
   "execution_count": null,
   "metadata": {},
   "outputs": [],
   "source": [
    "from datetime import date\n",
    "from uuid import UUID, uuid4\n",
    "from enum import Enum\n",
    "from pydantic import BaseModel, EmailStr, Field\n",
    "\n",
    "class Department(Enum):\n",
    "    HR = \"HR\"\n",
    "    SALES = \"SALES\"\n",
    "    IT = \"IT\"\n",
    "    ENGINEERING = \"ENGINEERING\"\n",
    "\n",
    "class Employee(BaseModel):\n",
    "    employee_id: UUID = Field(default_factory=uuid4, frozen=True)\n",
    "    name: str = Field(min_length=1, frozen=True)\n",
    "    email: EmailStr = Field(pattern=r\".+@example\\.com$\")\n",
    "    date_of_birth: date = Field(alias=\"birth_date\", repr=False, frozen=True)\n",
    "    salary: float = Field(alias=\"compensation\", gt=0, repr=False)\n",
    "    department: Department\n",
    "    elected_benefits: bool"
   ]
  },
  {
   "cell_type": "code",
   "execution_count": null,
   "metadata": {},
   "outputs": [],
   "source": [
    "invalid_employee = {\n",
    "    \"name\": \"\",\n",
    "    \"email\": \"cdetuma@fakedomain.com\",\n",
    "    \"birth_date\": \"1998-04-02\",\n",
    "    \"salary\": -10,\n",
    "    \"department\": \"IT\",\n",
    "    \"elected_benefits\": True,\n",
    "}\n",
    "\n",
    "Employee.model_validate(invalid_employee)"
   ]
  },
  {
   "cell_type": "code",
   "execution_count": null,
   "metadata": {},
   "outputs": [],
   "source": [
    "from datetime import date\n",
    "from uuid import UUID, uuid4\n",
    "from enum import Enum\n",
    "from pydantic import BaseModel, EmailStr, Field, field_validator\n",
    "\n",
    "class Department(Enum):\n",
    "    HR = \"HR\"\n",
    "    SALES = \"SALES\"\n",
    "    IT = \"IT\"\n",
    "    ENGINEERING = \"ENGINEERING\"\n",
    "\n",
    "class Employee(BaseModel):\n",
    "    employee_id: UUID = Field(default_factory=uuid4, frozen=True)\n",
    "    name: str = Field(min_length=1, frozen=True)\n",
    "    email: EmailStr = Field(pattern=r\".+@example\\.com$\")\n",
    "    date_of_birth: date = Field(alias=\"birth_date\", repr=False, frozen=True)\n",
    "    salary: float = Field(alias=\"compensation\", gt=0, repr=False)\n",
    "    department: Department\n",
    "    elected_benefits: bool\n",
    "\n",
    "    @field_validator(\"date_of_birth\")\n",
    "    @classmethod\n",
    "    def check_valid_age(cls, date_of_birth: date) -> date:\n",
    "        today = date.today()\n",
    "        eighteen_years_ago = date(today.year - 18, today.month, today.day)\n",
    "\n",
    "        if date_of_birth > eighteen_years_ago:\n",
    "            raise ValueError(\"Employees must be at least 18 years old.\")\n",
    "\n",
    "        return date_of_birth"
   ]
  },
  {
   "cell_type": "code",
   "execution_count": null,
   "metadata": {},
   "outputs": [],
   "source": [
    "employee = Employee(\n",
    "    name=\"Chris DeTuma\",\n",
    "    email=\"cdetuma@example.com\",\n",
    "    birth_date=\"1998-04-02\",\n",
    "    compensation=123_000.00,\n",
    "    department=\"IT\",\n",
    "    elected_benefits=True,\n",
    ")"
   ]
  },
  {
   "cell_type": "code",
   "execution_count": null,
   "metadata": {},
   "outputs": [],
   "source": []
  }
 ],
 "metadata": {
  "kernelspec": {
   "display_name": ".venv",
   "language": "python",
   "name": "python3"
  },
  "language_info": {
   "codemirror_mode": {
    "name": "ipython",
    "version": 3
   },
   "file_extension": ".py",
   "mimetype": "text/x-python",
   "name": "python",
   "nbconvert_exporter": "python",
   "pygments_lexer": "ipython3",
   "version": "3.10.8"
  }
 },
 "nbformat": 4,
 "nbformat_minor": 2
}
